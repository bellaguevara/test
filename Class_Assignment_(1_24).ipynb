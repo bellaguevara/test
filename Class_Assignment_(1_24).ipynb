{
  "nbformat": 4,
  "nbformat_minor": 0,
  "metadata": {
    "colab": {
      "provenance": [],
      "authorship_tag": "ABX9TyNc3+gC0hRFXqhfC8tGtM8q",
      "include_colab_link": true
    },
    "kernelspec": {
      "name": "python3",
      "display_name": "Python 3"
    },
    "language_info": {
      "name": "python"
    }
  },
  "cells": [
    {
      "cell_type": "markdown",
      "metadata": {
        "id": "view-in-github",
        "colab_type": "text"
      },
      "source": [
        "<a href=\"https://colab.research.google.com/github/bellaguevara/test/blob/main/Class_Assignment_(1_24).ipynb\" target=\"_parent\"><img src=\"https://colab.research.google.com/assets/colab-badge.svg\" alt=\"Open In Colab\"/></a>"
      ]
    },
    {
      "cell_type": "markdown",
      "source": [
        "# Area of a Cylinder"
      ],
      "metadata": {
        "id": "oasgHKIODWWu"
      }
    },
    {
      "cell_type": "code",
      "source": [
        "pi = 3.14\n",
        "radius = float(input('Please Provide Radius: '))\n",
        "height = float(input('Please Provide Height of Cylinder'))\n",
        "\n",
        "area = (2 * pi * (radius ** 2)) + (2 * pi * radius * height)\n",
        "print(f'Area of cylinder = {area} sq. ft')"
      ],
      "metadata": {
        "colab": {
          "base_uri": "https://localhost:8080/"
        },
        "id": "M8Is4pMnci4-",
        "outputId": "e3c289e6-737b-4804-8bf6-c4d06c3eae33"
      },
      "execution_count": null,
      "outputs": [
        {
          "output_type": "stream",
          "name": "stdout",
          "text": [
            "Please Provide Radius: 5\n",
            "Please Provide Height of Cylinder10\n",
            "Area of cylinder = 471.0 sq. ft\n"
          ]
        }
      ]
    },
    {
      "cell_type": "markdown",
      "source": [
        "# Calculator"
      ],
      "metadata": {
        "id": "Bp3FRSmHDKJ8"
      }
    },
    {
      "cell_type": "code",
      "source": [
        "a = int(input('Input a number you want to calculate: '))\n",
        "b = int(input('Input another number in the equation: '))\n",
        "symbol = str(input('the operator: '))\n",
        "\n",
        "if symbol == '+':\n",
        "  print(a + b)\n",
        "elif symbol == '-':\n",
        "  print(a - b)\n",
        "elif symbol == '*':\n",
        "  print(a * b)\n",
        "elif symbol == '/':\n",
        "  print(a / b)\n",
        "elif symbol == '//':\n",
        "  print(a // b)\n",
        "elif symbol == '**':\n",
        "  print (a ** b)\n",
        "elif symbol == '%':\n",
        "  print(a % b)"
      ],
      "metadata": {
        "colab": {
          "base_uri": "https://localhost:8080/"
        },
        "id": "c48PvUZkcBzv",
        "outputId": "af1b8368-692a-487c-bd60-2307ac5f4888"
      },
      "execution_count": null,
      "outputs": [
        {
          "output_type": "stream",
          "name": "stdout",
          "text": [
            "Input a number you want to calculate: 10\n",
            "Input another number in the equation: 4\n",
            "the operator: -\n",
            "6\n"
          ]
        }
      ]
    },
    {
      "cell_type": "markdown",
      "source": [
        "# Parking Fee"
      ],
      "metadata": {
        "id": "bRtrgIqgDIHZ"
      }
    },
    {
      "cell_type": "code",
      "source": [
        "for numberHours in range (1,9):\n",
        "  fee = 5 + 2.5 * numberHours\n",
        "  if fee <= 10:\n",
        "    fee = 10\n",
        "  elif fee > 20:\n",
        "    fee = 20\n",
        "  print(numberHours, fee)"
      ],
      "metadata": {
        "colab": {
          "base_uri": "https://localhost:8080/"
        },
        "id": "dCjxr4CBMnd8",
        "outputId": "944bcbe0-c432-474d-90b8-5c4e33054ba1"
      },
      "execution_count": null,
      "outputs": [
        {
          "output_type": "stream",
          "name": "stdout",
          "text": [
            "1 10\n",
            "2 10\n",
            "3 12.5\n",
            "4 15.0\n",
            "5 17.5\n",
            "6 20.0\n",
            "7 20\n",
            "8 20\n"
          ]
        }
      ]
    },
    {
      "cell_type": "markdown",
      "source": [
        "# Movie Theater"
      ],
      "metadata": {
        "id": "-Y4kXODPC-mJ"
      }
    },
    {
      "cell_type": "code",
      "source": [
        "print('Ad$\\t', 'Profit')\n",
        "for adcost in range(0, 201, 25):\n",
        "  additional = 2* round(adcost ** 0.5)\n",
        "  profit = (20 + additional) * 10 - 200 - adcost\n",
        "  print(adcost, '\\t', profit)"
      ],
      "metadata": {
        "colab": {
          "base_uri": "https://localhost:8080/"
        },
        "id": "Xft6kUVRP4o9",
        "outputId": "0569f692-0742-49ba-ceb7-719b4f448953"
      },
      "execution_count": null,
      "outputs": [
        {
          "output_type": "stream",
          "name": "stdout",
          "text": [
            "Ad$\t Profit\n",
            "0 \t 0\n",
            "25 \t 75\n",
            "50 \t 90\n",
            "75 \t 105\n",
            "100 \t 100\n",
            "125 \t 95\n",
            "150 \t 90\n",
            "175 \t 85\n",
            "200 \t 80\n"
          ]
        }
      ]
    },
    {
      "cell_type": "markdown",
      "source": [
        "# Rock, Paper, Scissors"
      ],
      "metadata": {
        "id": "qSXm9qK3DhBI"
      }
    },
    {
      "cell_type": "code",
      "source": [
        "play = input(\"Do you want to play a game(yes/no)? \")\n",
        "\n",
        "while play == 'yes':\n",
        "  p1 = input('Player 1 - Choose between rock, paper, scissors: ')\n",
        "  p2 = input('Player 2 - Choose between rock, paper, scissors: ')\n",
        "\n",
        "  if p1 == p2:\n",
        "    print('Draw')\n",
        "  elif p1 == 'rock' and p2 == 'scissors':\n",
        "    print('Player 1 wins!')\n",
        "  elif p1 == 'scissors' and p2 == 'paper':\n",
        "    print('Player 1 wins!')\n",
        "  elif p1 == 'paper' and p2 == 'rock':\n",
        "    print('Player 1 wins!')\n",
        "  else:\n",
        "    print('Player 2 wins!')\n",
        "\n",
        "  play = input('Do you want to play a new game (yes/no)? ')\n",
        "\n",
        "print('Good Day!')"
      ],
      "metadata": {
        "colab": {
          "base_uri": "https://localhost:8080/"
        },
        "id": "kpIvztQh5GB5",
        "outputId": "01a1386f-a690-4c86-d73b-adf01109656a"
      },
      "execution_count": null,
      "outputs": [
        {
          "output_type": "stream",
          "name": "stdout",
          "text": [
            "Do you want to play a game(yes/no)? yes\n",
            "Player 1 - Choose between rock, paper, scissors: rock\n",
            "Player 2 - Choose between rock, paper, scissors: paper\n",
            "Player 2 wins!\n",
            "Do you want to play a new game (yes/no)? no\n",
            "Good Day!\n"
          ]
        }
      ]
    },
    {
      "cell_type": "markdown",
      "source": [
        "# List"
      ],
      "metadata": {
        "id": "n2crtldzLXzp"
      }
    },
    {
      "cell_type": "code",
      "source": [
        "x = []\n",
        "\n",
        "num = int(input(\"Provide a number to add to the list: \"))\n",
        "\n",
        "while num != 0:\n",
        "  x.append(num)\n",
        "  num = int(input(\"Provide a number to add to the list: \"))\n",
        "  if num == 0:\n",
        "    x.append(0)\n",
        "    break\n",
        "\n",
        "x.sort(reverse=True)\n",
        "print(x)"
      ],
      "metadata": {
        "id": "PNoQDpQEKzVK"
      },
      "execution_count": null,
      "outputs": []
    }
  ]
}