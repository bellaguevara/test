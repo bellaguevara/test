{
  "nbformat": 4,
  "nbformat_minor": 0,
  "metadata": {
    "colab": {
      "provenance": [],
      "authorship_tag": "ABX9TyOGM1YvVI+05+ntYQCkxNUu",
      "include_colab_link": true
    },
    "kernelspec": {
      "name": "python3",
      "display_name": "Python 3"
    },
    "language_info": {
      "name": "python"
    }
  },
  "cells": [
    {
      "cell_type": "markdown",
      "metadata": {
        "id": "view-in-github",
        "colab_type": "text"
      },
      "source": [
        "<a href=\"https://colab.research.google.com/github/bellaguevara/test/blob/main/Class_Assignment_(1_24).ipynb\" target=\"_parent\"><img src=\"https://colab.research.google.com/assets/colab-badge.svg\" alt=\"Open In Colab\"/></a>"
      ]
    },
    {
      "cell_type": "code",
      "execution_count": null,
      "metadata": {
        "colab": {
          "base_uri": "https://localhost:8080/"
        },
        "id": "1VVa0DG0Z8sC",
        "outputId": "456abeca-e9a1-4169-c22d-81108dfb6d03"
      },
      "outputs": [
        {
          "output_type": "stream",
          "name": "stdout",
          "text": [
            "450\n"
          ]
        }
      ],
      "source": [
        "pi = 3.14\n",
        "r = 5\n",
        "h = 10\n",
        "cylinder_area = 2*int(pi)*int(r**2)+2*int(pi)*int(r)*int(h)\n",
        "print(cylinder_area)"
      ]
    },
    {
      "cell_type": "code",
      "source": [
        "pi = 3.14\n",
        "radius = float(input('Please Provide Radius: '))\n",
        "height = float(input('Please Provide Height of Cylinder'))\n",
        "\n",
        "area = (2 * pi * (radius ** 2)) + (2 * pi * radius * height)\n",
        "print(f'Area of cylinder = {area} sq. ft')"
      ],
      "metadata": {
        "colab": {
          "base_uri": "https://localhost:8080/"
        },
        "id": "M8Is4pMnci4-",
        "outputId": "e3c289e6-737b-4804-8bf6-c4d06c3eae33"
      },
      "execution_count": null,
      "outputs": [
        {
          "output_type": "stream",
          "name": "stdout",
          "text": [
            "Please Provide Radius: 5\n",
            "Please Provide Height of Cylinder10\n",
            "Area of cylinder = 471.0 sq. ft\n"
          ]
        }
      ]
    }
  ]
}