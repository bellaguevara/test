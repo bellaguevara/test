{
  "nbformat": 4,
  "nbformat_minor": 0,
  "metadata": {
    "colab": {
      "provenance": [],
      "authorship_tag": "ABX9TyPGgL/VtTSHdP3y5MzDK/Oa",
      "include_colab_link": true
    },
    "kernelspec": {
      "name": "python3",
      "display_name": "Python 3"
    },
    "language_info": {
      "name": "python"
    }
  },
  "cells": [
    {
      "cell_type": "markdown",
      "metadata": {
        "id": "view-in-github",
        "colab_type": "text"
      },
      "source": [
        "<a href=\"https://colab.research.google.com/github/bellaguevara/test/blob/main/Class_Assignment.ipynb\" target=\"_parent\"><img src=\"https://colab.research.google.com/assets/colab-badge.svg\" alt=\"Open In Colab\"/></a>"
      ]
    },
    {
      "cell_type": "markdown",
      "source": [
        "# Cylinder Area Calculator"
      ],
      "metadata": {
        "id": "oasgHKIODWWu"
      }
    },
    {
      "cell_type": "code",
      "source": [
        "pi = 3.14\n",
        "radius = float(input('Please Provide Radius: '))\n",
        "height = float(input('Please Provide Height of Cylinder'))\n",
        "\n",
        "area = (2 * pi * (radius ** 2)) + (2 * pi * radius * height)\n",
        "print(f'Area of cylinder = {area} sq. ft')"
      ],
      "metadata": {
        "colab": {
          "base_uri": "https://localhost:8080/"
        },
        "id": "M8Is4pMnci4-",
        "outputId": "e3c289e6-737b-4804-8bf6-c4d06c3eae33"
      },
      "execution_count": null,
      "outputs": [
        {
          "output_type": "stream",
          "name": "stdout",
          "text": [
            "Please Provide Radius: 5\n",
            "Please Provide Height of Cylinder10\n",
            "Area of cylinder = 471.0 sq. ft\n"
          ]
        }
      ]
    },
    {
      "cell_type": "markdown",
      "source": [
        "# Numerical Calculator"
      ],
      "metadata": {
        "id": "Bp3FRSmHDKJ8"
      }
    },
    {
      "cell_type": "code",
      "source": [
        "a = int(input('Input a number you want to calculate: '))\n",
        "b = int(input('Input another number in the equation: '))\n",
        "symbol = str(input('the operator: '))\n",
        "\n",
        "if symbol == '+':\n",
        "  print(a + b)\n",
        "elif symbol == '-':\n",
        "  print(a - b)\n",
        "elif symbol == '*':\n",
        "  print(a * b)\n",
        "elif symbol == '/':\n",
        "  print(a / b)\n",
        "elif symbol == '//':\n",
        "  print(a // b)\n",
        "elif symbol == '**':\n",
        "  print (a ** b)\n",
        "elif symbol == '%':\n",
        "  print(a % b)"
      ],
      "metadata": {
        "colab": {
          "base_uri": "https://localhost:8080/"
        },
        "id": "c48PvUZkcBzv",
        "outputId": "af1b8368-692a-487c-bd60-2307ac5f4888"
      },
      "execution_count": null,
      "outputs": [
        {
          "output_type": "stream",
          "name": "stdout",
          "text": [
            "Input a number you want to calculate: 10\n",
            "Input another number in the equation: 4\n",
            "the operator: -\n",
            "6\n"
          ]
        }
      ]
    },
    {
      "cell_type": "markdown",
      "source": [
        "# Parking Garage"
      ],
      "metadata": {
        "id": "bRtrgIqgDIHZ"
      }
    },
    {
      "cell_type": "code",
      "source": [
        "for numberHours in range (1,9):\n",
        "  fee = 5 + 2.5 * numberHours\n",
        "  if fee <= 10:\n",
        "    fee = 10\n",
        "  elif fee > 20:\n",
        "    fee = 20\n",
        "  print(numberHours, fee)"
      ],
      "metadata": {
        "colab": {
          "base_uri": "https://localhost:8080/"
        },
        "id": "dCjxr4CBMnd8",
        "outputId": "944bcbe0-c432-474d-90b8-5c4e33054ba1"
      },
      "execution_count": null,
      "outputs": [
        {
          "output_type": "stream",
          "name": "stdout",
          "text": [
            "1 10\n",
            "2 10\n",
            "3 12.5\n",
            "4 15.0\n",
            "5 17.5\n",
            "6 20.0\n",
            "7 20\n",
            "8 20\n"
          ]
        }
      ]
    },
    {
      "cell_type": "markdown",
      "source": [
        "# Movie Theater"
      ],
      "metadata": {
        "id": "-Y4kXODPC-mJ"
      }
    },
    {
      "cell_type": "code",
      "source": [
        "print('Ad$\\t', 'Profit')\n",
        "for adcost in range(0, 201, 25):\n",
        "  additional = 2* round(adcost ** 0.5)\n",
        "  profit = (20 + additional) * 10 - 200 - adcost\n",
        "  print(adcost, '\\t', profit)"
      ],
      "metadata": {
        "colab": {
          "base_uri": "https://localhost:8080/"
        },
        "id": "Xft6kUVRP4o9",
        "outputId": "0569f692-0742-49ba-ceb7-719b4f448953"
      },
      "execution_count": null,
      "outputs": [
        {
          "output_type": "stream",
          "name": "stdout",
          "text": [
            "Ad$\t Profit\n",
            "0 \t 0\n",
            "25 \t 75\n",
            "50 \t 90\n",
            "75 \t 105\n",
            "100 \t 100\n",
            "125 \t 95\n",
            "150 \t 90\n",
            "175 \t 85\n",
            "200 \t 80\n"
          ]
        }
      ]
    },
    {
      "cell_type": "markdown",
      "source": [
        "# Rock, Paper, Scissors"
      ],
      "metadata": {
        "id": "qSXm9qK3DhBI"
      }
    },
    {
      "cell_type": "code",
      "source": [
        "play = input(\"Do you want to play a game(yes/no)? \")\n",
        "\n",
        "while play == 'yes':\n",
        "  p1 = input('Player 1 - Choose between rock, paper, scissors: ')\n",
        "  p2 = input('Player 2 - Choose between rock, paper, scissors: ')\n",
        "\n",
        "  if p1 == p2:\n",
        "    print('Draw')\n",
        "  elif p1 == 'rock' and p2 == 'scissors':\n",
        "    print('Player 1 wins!')\n",
        "  elif p1 == 'scissors' and p2 == 'paper':\n",
        "    print('Player 1 wins!')\n",
        "  elif p1 == 'paper' and p2 == 'rock':\n",
        "    print('Player 1 wins!')\n",
        "  else:\n",
        "    print('Player 2 wins!')\n",
        "\n",
        "  play = input('Do you want to play a new game (yes/no)? ')\n",
        "\n",
        "print('Good Day!')"
      ],
      "metadata": {
        "colab": {
          "base_uri": "https://localhost:8080/"
        },
        "id": "kpIvztQh5GB5",
        "outputId": "01a1386f-a690-4c86-d73b-adf01109656a"
      },
      "execution_count": null,
      "outputs": [
        {
          "output_type": "stream",
          "name": "stdout",
          "text": [
            "Do you want to play a game(yes/no)? yes\n",
            "Player 1 - Choose between rock, paper, scissors: rock\n",
            "Player 2 - Choose between rock, paper, scissors: paper\n",
            "Player 2 wins!\n",
            "Do you want to play a new game (yes/no)? no\n",
            "Good Day!\n"
          ]
        }
      ]
    },
    {
      "cell_type": "markdown",
      "source": [
        "# Append Items to List Iteratively"
      ],
      "metadata": {
        "id": "n2crtldzLXzp"
      }
    },
    {
      "cell_type": "code",
      "source": [
        "x = []\n",
        "\n",
        "num = int(input(\"Provide a number to add to the list: \"))\n",
        "\n",
        "while num != 0:\n",
        "  x.append(num)\n",
        "  num = int(input(\"Provide a number to add to the list: \"))\n",
        "  if num == 0:\n",
        "    x.append(0)\n",
        "    break\n",
        "\n",
        "x.sort(reverse=True)\n",
        "print(x)"
      ],
      "metadata": {
        "id": "PNoQDpQEKzVK"
      },
      "execution_count": null,
      "outputs": []
    },
    {
      "cell_type": "markdown",
      "source": [
        "# Dynamic Dictionary of Number: Month Pairs"
      ],
      "metadata": {
        "id": "1DvjonqtnISl"
      }
    },
    {
      "cell_type": "code",
      "source": [
        "months = {}\n",
        "\n",
        "names = [\"Jan\",\"Feb\",\"Mar\",\"Apr\",\"May\",\"Jun\",\"Jul\",\"Aug\",\"Sep\",\" Oct\",\"Nov\",\"Dec\"]\n",
        "numbers = [1,2,3,4,5,6,7,8,9,10,11,12]\n",
        "\n",
        "for num in numbers:\n",
        "  months[num] = names[num - 1]\n",
        "months"
      ],
      "metadata": {
        "colab": {
          "base_uri": "https://localhost:8080/"
        },
        "id": "WRSBYIwjiT9z",
        "outputId": "dfc6572a-cb92-4527-cc2c-7149a8b9679d"
      },
      "execution_count": null,
      "outputs": [
        {
          "output_type": "execute_result",
          "data": {
            "text/plain": [
              "{1: 'Jan',\n",
              " 2: 'Feb',\n",
              " 3: 'Mar',\n",
              " 4: 'Apr',\n",
              " 5: 'May',\n",
              " 6: 'Jun',\n",
              " 7: 'Jul',\n",
              " 8: 'Aug',\n",
              " 9: 'Sep',\n",
              " 10: ' Oct',\n",
              " 11: 'Nov',\n",
              " 12: 'Dec'}"
            ]
          },
          "metadata": {},
          "execution_count": 5
        }
      ]
    },
    {
      "cell_type": "markdown",
      "source": [
        "# Dynamic Dictionary: 5 Distinct Key Value Pairs"
      ],
      "metadata": {
        "id": "_E6WRHhjnXMj"
      }
    },
    {
      "cell_type": "code",
      "source": [
        "counts = {}\n",
        "\n",
        "while len(counts) < 5:\n",
        "  key = input('Give a string: ')\n",
        "\n",
        "  if key not in counts:\n",
        "    counts[key] = 1\n",
        "  else:\n",
        "    counts[key] += 1\n",
        "\n",
        "counts"
      ],
      "metadata": {
        "id": "IaGTWCkypsil",
        "colab": {
          "base_uri": "https://localhost:8080/"
        },
        "outputId": "8a54dcc2-5718-4eac-af8f-264f118083ba"
      },
      "execution_count": 3,
      "outputs": [
        {
          "name": "stdout",
          "output_type": "stream",
          "text": [
            "Give a string: a\n",
            "Give a string: a\n",
            "Give a string: a\n",
            "Give a string: a\n",
            "Give a string: a\n",
            "Give a string: a\n",
            "Give a string: \n",
            "Give a string: a\n",
            "Give a string: a\n",
            "Give a string: \n",
            "Give a string: d\n",
            "Give a string: df\n",
            "Give a string: \n",
            "Give a string: g\n"
          ]
        },
        {
          "output_type": "execute_result",
          "data": {
            "text/plain": [
              "{'a': 8, '': 3, 'd': 1, 'df': 1, 'g': 1}"
            ]
          },
          "metadata": {},
          "execution_count": 3
        }
      ]
    },
    {
      "cell_type": "markdown",
      "source": [
        "# Parking Garage: CalcFee Function"
      ],
      "metadata": {
        "id": "FAfge4Ftn2mS"
      }
    },
    {
      "cell_type": "code",
      "source": [
        "def calcFee (hours):\n",
        "  print(f'Number of hours parked: {hours}')\n",
        "  for hours in range (1,9):\n",
        "    parking_fee = 5 + (2.5 * hours)\n",
        "  if parking_fee < 10:\n",
        "    parking_fee = 10\n",
        "  elif parking_fee >= 20:\n",
        "    parking_fee = 20\n",
        "  print(f'Parking fee: ${parking_fee}')\n",
        "\n",
        "\n",
        "calcFee(4)\n"
      ],
      "metadata": {
        "colab": {
          "base_uri": "https://localhost:8080/"
        },
        "id": "RYTwTGjsXavA",
        "outputId": "724b46c6-ea60-4bf0-eec7-94e35c1f2e04"
      },
      "execution_count": 2,
      "outputs": [
        {
          "output_type": "stream",
          "name": "stdout",
          "text": [
            "Number of hours parked: 4\n",
            "Parking fee: $20\n"
          ]
        }
      ]
    },
    {
      "cell_type": "markdown",
      "source": [
        "# Recursive Function: String Reversal"
      ],
      "metadata": {
        "id": "OsZGmKpooyVZ"
      }
    },
    {
      "cell_type": "code",
      "source": [
        "def fibR(n):\n",
        "  if n > 1: #inductive case\n",
        "    return fibR(n-1) + fibR(n-2)\n",
        "  else:\n",
        "    return 1\n",
        "\n",
        "fibR(5)"
      ],
      "metadata": {
        "colab": {
          "base_uri": "https://localhost:8080/"
        },
        "id": "d9-7Kn1Oo52R",
        "outputId": "2ad3d5d3-2b26-4e58-9dcb-53aa7a822d94"
      },
      "execution_count": 4,
      "outputs": [
        {
          "output_type": "execute_result",
          "data": {
            "text/plain": [
              "8"
            ]
          },
          "metadata": {},
          "execution_count": 4
        }
      ]
    },
    {
      "cell_type": "code",
      "source": [
        "def reverse(s):\n",
        "  if len(s) == 1:\n",
        "    return s\n",
        "  else:\n",
        "    return s[-1] + reverse(s[:-1])\n",
        "\n",
        "reverse('Hello')"
      ],
      "metadata": {
        "colab": {
          "base_uri": "https://localhost:8080/",
          "height": 35
        },
        "id": "8ObvbNZWpOov",
        "outputId": "cb04074b-4713-41fa-839b-6b14db2ef304"
      },
      "execution_count": 5,
      "outputs": [
        {
          "output_type": "execute_result",
          "data": {
            "text/plain": [
              "'olleH'"
            ],
            "application/vnd.google.colaboratory.intrinsic+json": {
              "type": "string"
            }
          },
          "metadata": {},
          "execution_count": 5
        }
      ]
    },
    {
      "cell_type": "markdown",
      "source": [
        "# Parking Garage: 1st Question of Assignment II Using Exception Handling"
      ],
      "metadata": {
        "id": "49aawuZrphMG"
      }
    },
    {
      "cell_type": "code",
      "source": [
        "def calcFee(hours):\n",
        "  print(f'Number of hours parked: {hours}')\n",
        "  for hours in range(1,9):\n",
        "    parking_fee = 5 + (2.5 * hours)\n",
        "  if parking_fee < 10:\n",
        "    parking_fee = 10\n",
        "  elif parking_fee >= 20:\n",
        "    parking_fee = 20\n",
        "  print(f'Parking fee: ${parking_fee}')\n",
        "\n",
        "def main():\n",
        "  numHours = int(input('Enter number of hours: '))\n",
        "  calcFee(numHours)\n",
        "\n",
        "if __name__ == \"__main__\":\n",
        "  main()"
      ],
      "metadata": {
        "colab": {
          "base_uri": "https://localhost:8080/"
        },
        "id": "a6Lsx5iMpqea",
        "outputId": "230963d7-d133-4088-f5a9-6f26de6c1a89"
      },
      "execution_count": 6,
      "outputs": [
        {
          "output_type": "stream",
          "name": "stdout",
          "text": [
            "Enter number of hours: 4\n",
            "Number of hours parked: 4\n",
            "Parking fee: $20\n"
          ]
        }
      ]
    },
    {
      "cell_type": "markdown",
      "source": [
        "# Greeting Class"
      ],
      "metadata": {
        "id": "D9bh-sPUqZQA"
      }
    },
    {
      "cell_type": "code",
      "source": [
        "class Greeting:\n",
        "  def __init__(self,first,last):\n",
        "    self.first = first\n",
        "    self.last = last\n",
        "  def display(self, formal=False):\n",
        "    if formal == True:\n",
        "      print(f'Hi {self.first} {self.last}')\n",
        "    else:\n",
        "      print(f'Hi {self.first}')\n",
        "  def __str__(self):\n",
        "    return f'{self.first}, {self.last}'\n",
        "\n",
        "greeting = Greeting('Donald','Becker')\n",
        "greeting.display(formal=False)\n",
        "greeting.__str__()"
      ],
      "metadata": {
        "colab": {
          "base_uri": "https://localhost:8080/",
          "height": 53
        },
        "id": "oxJEdFHyggpM",
        "outputId": "1dea920a-1239-4865-c377-f83d2cd98fed"
      },
      "execution_count": 7,
      "outputs": [
        {
          "output_type": "stream",
          "name": "stdout",
          "text": [
            "Hi Donald\n"
          ]
        },
        {
          "output_type": "execute_result",
          "data": {
            "text/plain": [
              "'Donald, Becker'"
            ],
            "application/vnd.google.colaboratory.intrinsic+json": {
              "type": "string"
            }
          },
          "metadata": {},
          "execution_count": 7
        }
      ]
    },
    {
      "cell_type": "markdown",
      "source": [
        "# Student Class"
      ],
      "metadata": {
        "id": "OksR4v39q-Rk"
      }
    },
    {
      "cell_type": "code",
      "source": [
        "class Student:\n",
        "  def __init__(self, name, number):\n",
        "    self.name = name\n",
        "    self.numbe = number\n",
        "    self.course = []\n",
        "\n",
        "  def enroll(self, course):\n",
        "    if course in self.courses:\n",
        "      print(f'You have already enrolled in {course}')\n",
        "    else:\n",
        "      self.courses.append(course)\n",
        "\n",
        "s1 = Student('Bob', 100)\n",
        "s2 = Student('Alice', 101)\n",
        "\n",
        "print(s1.name, s2.name)"
      ],
      "metadata": {
        "id": "85HsP7dLs_uT",
        "colab": {
          "base_uri": "https://localhost:8080/"
        },
        "outputId": "ef5e3271-9fcf-4fca-d227-ceeed5a366c5"
      },
      "execution_count": 8,
      "outputs": [
        {
          "output_type": "stream",
          "name": "stdout",
          "text": [
            "Bob Alice\n"
          ]
        }
      ]
    },
    {
      "cell_type": "markdown",
      "source": [
        "# Classes Point and Rectangle"
      ],
      "metadata": {
        "id": "N3wkqKEdrSlZ"
      }
    },
    {
      "cell_type": "code",
      "source": [
        "import math\n",
        "\n",
        "class Point:\n",
        "  def __init__(self, x, y):\n",
        "    self.x = x\n",
        "    self.y = y\n",
        "\n",
        "  def distance(self, other):\n",
        "    return math.sqrt((self.x - other.x) ** 2 + (self.y - other.y) ** 2)\n",
        "\n",
        "class Rectangle:\n",
        "  def __init__(self):\n",
        "    self.c1 = Point(0, 0)\n",
        "    self.c2 = Point(0, 2)\n",
        "    self.c3 = Point(2, 0)\n",
        "    self.c4 = Point(2, 2)\n",
        "    self.width = self.calculate_width()\n",
        "    self.height = self.calculate_height()\n",
        "\n",
        "  def calculate_width(self):\n",
        "    return self.c1.distance(self.c2)\n",
        "\n",
        "  def calculate_height(self):\n",
        "    return self.c3.distance(self.c4)\n",
        "\n",
        "  def area(self):\n",
        "    return self.width * self.height\n",
        "\n",
        "square = Rectangle()\n",
        "square.area()"
      ],
      "metadata": {
        "id": "f2NI7zriOaM0",
        "colab": {
          "base_uri": "https://localhost:8080/"
        },
        "outputId": "3d11c1f4-ab80-4c7b-8ae0-f4dcbd022a9f"
      },
      "execution_count": null,
      "outputs": [
        {
          "output_type": "execute_result",
          "data": {
            "text/plain": [
              "4.0"
            ]
          },
          "metadata": {},
          "execution_count": 2
        }
      ]
    }
  ]
}